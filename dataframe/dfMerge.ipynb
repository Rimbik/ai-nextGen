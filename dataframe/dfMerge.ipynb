{
  "nbformat": 4,
  "nbformat_minor": 0,
  "metadata": {
    "colab": {
      "provenance": []
    },
    "kernelspec": {
      "name": "python3",
      "display_name": "Python 3"
    },
    "language_info": {
      "name": "python"
    }
  },
  "cells": [
    {
      "cell_type": "code",
      "execution_count": 19,
      "metadata": {
        "colab": {
          "base_uri": "https://localhost:8080/"
        },
        "id": "bwM_14FDN6Gz",
        "outputId": "f5ba3b78-543a-4636-d4a1-1d0bf7634fd2"
      },
      "outputs": [
        {
          "output_type": "stream",
          "name": "stdout",
          "text": [
            "   Id   Name Sex  Location\n",
            "0   1   John   M       USA\n",
            "1   2   Chee   F  Malaysia\n",
            "2   3  Vinod   M     India\n",
            "\n",
            "\n",
            "   ID Married  Id   Name Sex  Location\n",
            "0   1       N   1   John   M       USA\n",
            "1   2       Y   2   Chee   F  Malaysia\n",
            "2   3       Y   3  Vinod   M     India\n",
            "\n",
            "\n",
            "  Married  Id   Name Sex  Location\n",
            "0       N   1   John   M       USA\n",
            "1       Y   2   Chee   F  Malaysia\n",
            "2       Y   3  Vinod   M     India\n"
          ]
        }
      ],
      "source": [
        "# DataFrame merging\n",
        "from pandas import DataFrame\n",
        "import pandas as pd\n",
        "\n",
        "data1 = {\n",
        "    'Id' : [1,2,3],\n",
        "    'Name' : ['John','Chee','Vinod'],\n",
        "    'Sex' : ['M','F','M']\n",
        "}\n",
        "\n",
        "data2 = {\n",
        "    'Id' :[1,2,3],\n",
        "    'Location' : ['USA','Malaysia','India']\n",
        "}\n",
        "\n",
        "\n",
        "df1 = pd.DataFrame(data1)\n",
        "df2 = pd.DataFrame(data2)\n",
        "\n",
        "df3 = df1.merge(df2, on='Id', how='inner')\n",
        "print(df3)\n",
        "\n",
        "# ---- merge with diff colms------------------\n",
        "print(\"\\n\")\n",
        "\n",
        "data3 = {\n",
        "    'ID' : [1,2,3],\n",
        "    'Married' : ['N','Y','Y'],\n",
        "\n",
        "}\n",
        "df4 = pd.DataFrame(data3)\n",
        "\n",
        "df5= df4.merge(df3, left_on='ID', right_on='Id', how='inner')\n",
        "print(df5)\n",
        "\n",
        "print(\"\\n\")\n",
        "\n",
        "df5 = df5.drop(['ID'], axis=1)\n",
        "\n",
        "print(df5)\n",
        "\n",
        "\n",
        "\n"
      ]
    }
  ]
}