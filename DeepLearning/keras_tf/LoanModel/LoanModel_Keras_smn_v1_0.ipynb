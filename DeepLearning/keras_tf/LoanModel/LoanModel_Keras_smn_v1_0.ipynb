{
  "nbformat": 4,
  "nbformat_minor": 0,
  "metadata": {
    "colab": {
      "provenance": []
    },
    "kernelspec": {
      "name": "python3",
      "display_name": "Python 3"
    },
    "language_info": {
      "name": "python"
    }
  },
  "cells": [
    {
      "cell_type": "code",
      "execution_count": 20,
      "metadata": {
        "colab": {
          "base_uri": "https://localhost:8080/"
        },
        "id": "WmRV-nZRZruU",
        "outputId": "dc5177ab-0571-47bc-e562-635f48d6c775"
      },
      "outputs": [
        {
          "output_type": "stream",
          "name": "stdout",
          "text": [
            "Feature to use in sequence:  ['purpose', 'inq.last.6mths', 'revol.bal', 'delinq.2yrs', 'pub.rec', 'log.annual.inc']\n",
            "Number of input features: 6\n",
            "\n",
            "\n",
            "\n"
          ]
        },
        {
          "output_type": "stream",
          "name": "stderr",
          "text": [
            "WARNING:tensorflow:5 out of the last 5 calls to <function TensorFlowTrainer.make_predict_function.<locals>.one_step_on_data_distributed at 0x7a0e68a2bba0> triggered tf.function retracing. Tracing is expensive and the excessive number of tracings could be due to (1) creating @tf.function repeatedly in a loop, (2) passing tensors with different shapes, (3) passing Python objects instead of tensors. For (1), please define your @tf.function outside of the loop. For (2), @tf.function has reduce_retracing=True option that can avoid unnecessary retracing. For (3), please refer to https://www.tensorflow.org/guide/function#controlling_retracing and https://www.tensorflow.org/api_docs/python/tf/function for  more details.\n"
          ]
        },
        {
          "output_type": "stream",
          "name": "stdout",
          "text": [
            "\u001b[1m1/1\u001b[0m \u001b[32m━━━━━━━━━━━━━━━━━━━━\u001b[0m\u001b[37m\u001b[0m \u001b[1m0s\u001b[0m 93ms/step\n",
            "[[0]\n",
            " [1]\n",
            " [1]]\n"
          ]
        }
      ],
      "source": [
        "import warnings\n",
        "warnings.simplefilter(\"ignore\", UserWarning)\n",
        "\n",
        "from sklearn.preprocessing import StandardScaler # Import StandardScaler\n",
        "import numpy as np\n",
        "\n",
        "model = ''\n",
        "\n",
        "# print(features_canbetaken)\n",
        "ft = ['purpose', 'inq.last.6mths', 'revol.bal', 'delinq.2yrs', 'pub.rec', 'log.annual.inc']\n",
        "print(\"Feature to use in sequence: \", ft)\n",
        "\n",
        "# load the model\n",
        "from tensorflow.keras.models import load_model\n",
        "import tensorflow as tf\n",
        "\n",
        "model_path = \"loan_model_keras.keras\"\n",
        "model = tf.keras.models.load_model(model_path)  # Load from local file\n",
        "\n",
        "# show the feature names\n",
        "num_features = model.input_shape[1]  # Assuming a Dense model\n",
        "print(f\"Number of input features: {num_features}\")\n",
        "print(\"\\n\\n\")\n",
        "\n",
        "# predict Live\n",
        "\n",
        "scaler = StandardScaler()\n",
        "scaler.fit(sampleTestData)\n",
        "\n",
        "# ['purpose', 'inq.last.6mths', 'revol.bal', 'delinq.2yrs', 'pub.rec', 'log.annual.inc']\n",
        "sampleTestData =  [\n",
        "    [3, \t3, \t6793, \t2, \t0, \t10.404263], # 0\n",
        "    [0, \t0, \t39481, \t0, \t0, \t10.545341], # 1\n",
        "    [2, \t4, \t16690, \t0, \t0, \t10.448715], # 1\n",
        "  ]\n",
        "\n",
        "# do test\n",
        "\n",
        "testData = scaler.transform(sampleTestData)\n",
        "y_pred = model.predict(testData)\n",
        "y_pred = (y_pred > 0.5).astype(int)\n",
        "\n",
        "print(y_pred)"
      ]
    }
  ]
}