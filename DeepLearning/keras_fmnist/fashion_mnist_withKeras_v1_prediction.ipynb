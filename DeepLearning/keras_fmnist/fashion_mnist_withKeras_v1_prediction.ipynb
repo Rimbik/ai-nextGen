{
  "nbformat": 4,
  "nbformat_minor": 0,
  "metadata": {
    "colab": {
      "provenance": [],
      "gpuType": "T4"
    },
    "kernelspec": {
      "name": "python3",
      "display_name": "Python 3"
    },
    "language_info": {
      "name": "python"
    },
    "accelerator": "GPU"
  },
  "cells": [
    {
      "cell_type": "code",
      "execution_count": 9,
      "metadata": {
        "id": "JXYKvhDhOS2e"
      },
      "outputs": [],
      "source": [
        "# Classification with CNN\n",
        "# Fashion MNist\n",
        "\n",
        "import numpy as np\n",
        "import matplotlib.pyplot as plt\n",
        "import tensorflow as tf\n",
        "\n",
        "from tensorflow.keras.layers import Input, Conv2D, MaxPooling2D, Flatten, Dense, Dropout\n",
        "from tensorflow.keras.models import Model\n",
        "import tensorflow_datasets as tfds\n",
        "import pandas as pd\n",
        "import seaborn as sns"
      ]
    },
    {
      "cell_type": "code",
      "source": [
        "f_mnist = tf.keras.datasets.fashion_mnist\n",
        "(X_train, Y_train), (X_test, Y_test) = f_mnist.load_data()\n",
        "\n",
        "print(X_train.shape)\n",
        "print(X_test.shape)\n",
        "\n",
        "\n"
      ],
      "metadata": {
        "colab": {
          "base_uri": "https://localhost:8080/"
        },
        "id": "1dF2zPJXOdml",
        "outputId": "cc85d79a-f522-4779-90b5-fd1d8401cdfc"
      },
      "execution_count": 10,
      "outputs": [
        {
          "output_type": "stream",
          "name": "stdout",
          "text": [
            "(60000, 28, 28)\n",
            "(10000, 28, 28)\n"
          ]
        }
      ]
    },
    {
      "cell_type": "code",
      "source": [
        "# this is 2D array (but CNN needs 3D array)\n",
        "# CNN needs height x and width x color\n",
        "X_train = np.expand_dims(X_train, axis=-1)\n",
        "X_test = np.expand_dims(X_test, axis=-1)\n",
        "\n",
        "print(X_train.shape)\n",
        "print(X_test.shape)\n"
      ],
      "metadata": {
        "colab": {
          "base_uri": "https://localhost:8080/"
        },
        "id": "OmqEHW5kPNTj",
        "outputId": "68ae466e-859b-4a49-e9eb-5c1c56c41fee"
      },
      "execution_count": 11,
      "outputs": [
        {
          "output_type": "stream",
          "name": "stdout",
          "text": [
            "(60000, 28, 28, 1)\n",
            "(10000, 28, 28, 1)\n"
          ]
        }
      ]
    },
    {
      "cell_type": "code",
      "source": [
        "# k = len(np.unique(Y_train))\n",
        "k = len(set(Y_train))\n",
        "print(\"number of classes:\", k)\n",
        "\n",
        "print(\"shape: \",X_train[0].shape)"
      ],
      "metadata": {
        "colab": {
          "base_uri": "https://localhost:8080/"
        },
        "id": "uTBHjgeuP1Od",
        "outputId": "7cecd260-e809-40ca-8146-9352102f2057"
      },
      "execution_count": 12,
      "outputs": [
        {
          "output_type": "stream",
          "name": "stdout",
          "text": [
            "number of classes: 10\n",
            "shape:  (28, 28, 1)\n"
          ]
        }
      ]
    },
    {
      "cell_type": "code",
      "source": [
        "# Build the model using functional API\n",
        "i = Input(shape=X_train[0].shape)\n",
        "x = Conv2D(32, (3, 3), strides=2, activation='relu')(i)\n",
        "x = Conv2D(64, (3, 3), strides=2, activation='relu')(x)\n",
        "x = Conv2D(128, (3, 3), strides=2, activation='relu')(x)\n",
        "x = Flatten()(x)\n",
        "x = Dropout(0.2)(x)\n",
        "x = Dense(512, activation='relu')(x)\n",
        "x = Dropout(0.2)(x)\n",
        "# x = Dense(k, activation='softmax')(x)\n",
        "\n",
        "from tensorflow.keras import regularizers  # Import regularizers here\n",
        "x = Dense(128, activation='relu', kernel_regularizer=regularizers.l2(0.001))(x) # Add the new Dense layer with regularization here\n",
        "x = Dense(k, activation='softmax')(x)\n",
        "\n",
        "model = Model(i, x)\n",
        "\n",
        "model.compile(\n",
        "                 optimizer='adam',\n",
        "                 loss='sparse_categorical_crossentropy',\n",
        "                 metrics=['accuracy']\n",
        "             )\n",
        "\n",
        "# Optimize Learning Rate\n",
        "from tensorflow.keras.callbacks import ReduceLROnPlateau\n",
        "# Reduce learning rate if validation loss doesn't improve\n",
        "lr_scheduler = ReduceLROnPlateau(monitor='val_loss', factor=0.5, patience=3)\n",
        "\n",
        "# Train with Callbacks\n",
        "from tensorflow.keras.callbacks import EarlyStopping\n",
        "early_stop = EarlyStopping(monitor='val_loss', patience=5, restore_best_weights=True)\n",
        "\n",
        "r = model.fit(X_train, Y_train, validation_data=(X_test, Y_test), epochs=15, callbacks=[early_stop, lr_scheduler])\n"
      ],
      "metadata": {
        "colab": {
          "base_uri": "https://localhost:8080/"
        },
        "id": "v2sl1TouRb2N",
        "outputId": "61ca60bd-b25b-44bd-9094-94be21a67cc2"
      },
      "execution_count": 14,
      "outputs": [
        {
          "output_type": "stream",
          "name": "stdout",
          "text": [
            "Epoch 1/15\n",
            "\u001b[1m1875/1875\u001b[0m \u001b[32m━━━━━━━━━━━━━━━━━━━━\u001b[0m\u001b[37m\u001b[0m \u001b[1m15s\u001b[0m 5ms/step - accuracy: 0.7513 - loss: 1.0530 - val_accuracy: 0.8432 - val_loss: 0.5009 - learning_rate: 0.0010\n",
            "Epoch 2/15\n",
            "\u001b[1m1875/1875\u001b[0m \u001b[32m━━━━━━━━━━━━━━━━━━━━\u001b[0m\u001b[37m\u001b[0m \u001b[1m7s\u001b[0m 4ms/step - accuracy: 0.8508 - loss: 0.4702 - val_accuracy: 0.8579 - val_loss: 0.4154 - learning_rate: 0.0010\n",
            "Epoch 3/15\n",
            "\u001b[1m1875/1875\u001b[0m \u001b[32m━━━━━━━━━━━━━━━━━━━━\u001b[0m\u001b[37m\u001b[0m \u001b[1m6s\u001b[0m 3ms/step - accuracy: 0.8689 - loss: 0.3876 - val_accuracy: 0.8577 - val_loss: 0.4073 - learning_rate: 0.0010\n",
            "Epoch 4/15\n",
            "\u001b[1m1875/1875\u001b[0m \u001b[32m━━━━━━━━━━━━━━━━━━━━\u001b[0m\u001b[37m\u001b[0m \u001b[1m7s\u001b[0m 4ms/step - accuracy: 0.8776 - loss: 0.3519 - val_accuracy: 0.8723 - val_loss: 0.3686 - learning_rate: 0.0010\n",
            "Epoch 5/15\n",
            "\u001b[1m1875/1875\u001b[0m \u001b[32m━━━━━━━━━━━━━━━━━━━━\u001b[0m\u001b[37m\u001b[0m \u001b[1m7s\u001b[0m 4ms/step - accuracy: 0.8848 - loss: 0.3266 - val_accuracy: 0.8786 - val_loss: 0.3559 - learning_rate: 0.0010\n",
            "Epoch 6/15\n",
            "\u001b[1m1875/1875\u001b[0m \u001b[32m━━━━━━━━━━━━━━━━━━━━\u001b[0m\u001b[37m\u001b[0m \u001b[1m7s\u001b[0m 4ms/step - accuracy: 0.8940 - loss: 0.3053 - val_accuracy: 0.8813 - val_loss: 0.3541 - learning_rate: 0.0010\n",
            "Epoch 7/15\n",
            "\u001b[1m1875/1875\u001b[0m \u001b[32m━━━━━━━━━━━━━━━━━━━━\u001b[0m\u001b[37m\u001b[0m \u001b[1m7s\u001b[0m 4ms/step - accuracy: 0.8977 - loss: 0.2838 - val_accuracy: 0.8799 - val_loss: 0.3520 - learning_rate: 0.0010\n",
            "Epoch 8/15\n",
            "\u001b[1m1875/1875\u001b[0m \u001b[32m━━━━━━━━━━━━━━━━━━━━\u001b[0m\u001b[37m\u001b[0m \u001b[1m10s\u001b[0m 4ms/step - accuracy: 0.9036 - loss: 0.2748 - val_accuracy: 0.8781 - val_loss: 0.3561 - learning_rate: 0.0010\n",
            "Epoch 9/15\n",
            "\u001b[1m1875/1875\u001b[0m \u001b[32m━━━━━━━━━━━━━━━━━━━━\u001b[0m\u001b[37m\u001b[0m \u001b[1m7s\u001b[0m 4ms/step - accuracy: 0.9084 - loss: 0.2557 - val_accuracy: 0.8816 - val_loss: 0.3717 - learning_rate: 0.0010\n",
            "Epoch 10/15\n",
            "\u001b[1m1875/1875\u001b[0m \u001b[32m━━━━━━━━━━━━━━━━━━━━\u001b[0m\u001b[37m\u001b[0m \u001b[1m7s\u001b[0m 4ms/step - accuracy: 0.9151 - loss: 0.2426 - val_accuracy: 0.8829 - val_loss: 0.3614 - learning_rate: 0.0010\n",
            "Epoch 11/15\n",
            "\u001b[1m1875/1875\u001b[0m \u001b[32m━━━━━━━━━━━━━━━━━━━━\u001b[0m\u001b[37m\u001b[0m \u001b[1m9s\u001b[0m 3ms/step - accuracy: 0.9261 - loss: 0.2051 - val_accuracy: 0.8905 - val_loss: 0.3412 - learning_rate: 5.0000e-04\n",
            "Epoch 12/15\n",
            "\u001b[1m1875/1875\u001b[0m \u001b[32m━━━━━━━━━━━━━━━━━━━━\u001b[0m\u001b[37m\u001b[0m \u001b[1m10s\u001b[0m 3ms/step - accuracy: 0.9346 - loss: 0.1777 - val_accuracy: 0.8945 - val_loss: 0.3521 - learning_rate: 5.0000e-04\n",
            "Epoch 13/15\n",
            "\u001b[1m1875/1875\u001b[0m \u001b[32m━━━━━━━━━━━━━━━━━━━━\u001b[0m\u001b[37m\u001b[0m \u001b[1m10s\u001b[0m 3ms/step - accuracy: 0.9421 - loss: 0.1637 - val_accuracy: 0.8915 - val_loss: 0.3910 - learning_rate: 5.0000e-04\n",
            "Epoch 14/15\n",
            "\u001b[1m1875/1875\u001b[0m \u001b[32m━━━━━━━━━━━━━━━━━━━━\u001b[0m\u001b[37m\u001b[0m \u001b[1m8s\u001b[0m 4ms/step - accuracy: 0.9457 - loss: 0.1506 - val_accuracy: 0.8924 - val_loss: 0.3650 - learning_rate: 5.0000e-04\n",
            "Epoch 15/15\n",
            "\u001b[1m1875/1875\u001b[0m \u001b[32m━━━━━━━━━━━━━━━━━━━━\u001b[0m\u001b[37m\u001b[0m \u001b[1m7s\u001b[0m 4ms/step - accuracy: 0.9542 - loss: 0.1286 - val_accuracy: 0.8983 - val_loss: 0.3775 - learning_rate: 2.5000e-04\n"
          ]
        }
      ]
    },
    {
      "cell_type": "code",
      "source": [
        "# plot loss per iteration\n",
        "plt.plot(r.history['loss'], label='loss')\n",
        "plt.plot(r.history['val_loss'], label='val_loss')\n",
        "plt.legend()\n"
      ],
      "metadata": {
        "colab": {
          "base_uri": "https://localhost:8080/",
          "height": 447
        },
        "id": "ntQzOKo2Tadm",
        "outputId": "76d1cd96-031b-49c1-dd82-1adf03f0fb80"
      },
      "execution_count": 15,
      "outputs": [
        {
          "output_type": "execute_result",
          "data": {
            "text/plain": [
              "<matplotlib.legend.Legend at 0x7e1294121b90>"
            ]
          },
          "metadata": {},
          "execution_count": 15
        },
        {
          "output_type": "display_data",
          "data": {
            "text/plain": [
              "<Figure size 640x480 with 1 Axes>"
            ],
            "image/png": "[encoded data removed]"
          },
          "metadata": {}
        }
      ]
    },
    {
      "cell_type": "code",
      "source": [
        "plt.plot(r.history['accuracy'], label='acc')\n",
        "plt.plot(r.history['val_accuracy'], label='val_acc')\n",
        "plt.legend()"
      ],
      "metadata": {
        "colab": {
          "base_uri": "https://localhost:8080/",
          "height": 447
        },
        "id": "mB2uqmweTpeQ",
        "outputId": "6ca5a7c1-bdf5-4134-fc6e-a45fd67973b8"
      },
      "execution_count": 16,
      "outputs": [
        {
          "output_type": "execute_result",
          "data": {
            "text/plain": [
              "<matplotlib.legend.Legend at 0x7e1310de37d0>"
            ]
          },
          "metadata": {},
          "execution_count": 16
        },
        {
          "output_type": "display_data",
          "data": {
            "text/plain": [
              "<Figure size 640x480 with 1 Axes>"
            ],
            "image/png": "[encoded data removed]"
          },
          "metadata": {}
        }
      ]
    },
    {
      "cell_type": "code",
      "source": [
        "# plot confusion matrix\n",
        "from sklearn.metrics import confusion_matrix\n",
        "import seaborn as sns\n",
        "Y_pred = model.predict(X_test)\n",
        "Y_pred_classes = np.argmax(Y_pred, axis=1)\n",
        "cm = confusion_matrix(Y_test, Y_pred_classes)\n"
      ],
      "metadata": {
        "colab": {
          "base_uri": "https://localhost:8080/"
        },
        "id": "0Ct9V3JIT4jR",
        "outputId": "f614be4a-50e0-403a-c562-be90e75751f1"
      },
      "execution_count": 17,
      "outputs": [
        {
          "output_type": "stream",
          "name": "stdout",
          "text": [
            "\u001b[1m313/313\u001b[0m \u001b[32m━━━━━━━━━━━━━━━━━━━━\u001b[0m\u001b[37m\u001b[0m \u001b[1m1s\u001b[0m 2ms/step\n"
          ]
        }
      ]
    },
    {
      "cell_type": "code",
      "source": [
        "import matplotlib.ticker as ticker\n",
        "fig, ax = plt.subplots(figsize=(10, 10))  # Set the figure size\n",
        "sns.heatmap(cm, annot=True, linewidths=0.5, fmt=\"d\", ax=ax) #fmt=\"d\" to display the values in the heatmap as integers\n",
        "ax.yaxis.set_major_formatter(ticker.StrMethodFormatter(\"{x:.0f}\"))\n",
        "plt.draw()\n",
        "plt.show()\n",
        "\n",
        "\n"
      ],
      "metadata": {
        "colab": {
          "base_uri": "https://localhost:8080/",
          "height": 830
        },
        "id": "_Kzu0zEYXVdU",
        "outputId": "6975caef-1f03-45cc-ec77-d2eeed9193b2"
      },
      "execution_count": 18,
      "outputs": [
        {
          "output_type": "display_data",
          "data": {
            "text/plain": [
              "<Figure size 1000x1000 with 2 Axes>"
            ],
            "image/png": "[encoded data removed]"
          },
          "metadata": {}
        }
      ]
    },
    {
      "cell_type": "code",
      "source": [
        "# pip install --upgrade scikit-learn\n",
        "\n",
        "from sklearn.metrics import confusion_matrix\n",
        "import itertools\n",
        "\n",
        "def plot_confusion_matrix(cm, classes,\n",
        "                          normalize=False,\n",
        "                          title='Confusion matrix',\n",
        "                          cmap=plt.cm.Blues):\n",
        "\n",
        "  if normalize:\n",
        "    cm = cm.astype('float') / cm.sum(axis=1)[:, np.newaxis]\n",
        "    print(\"Normalized confusion matrix\")\n",
        "  else:\n",
        "    print('Confusion matrix, without normalization')\n",
        "\n",
        "  print(cm)\n",
        "\n",
        "  plt.imshow(cm, interpolation='nearest', cmap=cmap)\n",
        "  plt.title(title)\n",
        "  plt.colorbar()\n",
        "  tick_marks = np.arange(len(classes))\n",
        "  plt.xticks(tick_marks, classes, rotation=45)\n",
        "  plt.yticks(tick_marks, classes)\n",
        "\n",
        "  fmt = '.2f' if normalize else 'd'\n",
        "  thresh = cm.max() / 2.\n",
        "  for i, j in itertools.product(range(cm.shape[0]), range(cm.shape[1])):\n",
        "    plt.text(j, i, format(cm[i, j], fmt),\n",
        "             horizontalalignment=\"center\",\n",
        "             color=\"white\" if cm[i, j] > thresh else \"black\")\n",
        "\n",
        "  plt.tight_layout()\n",
        "  plt.ylabel('True label')\n",
        "  plt.xlabel('Predicted label')\n",
        "  plt.show()\n",
        "\n"
      ],
      "metadata": {
        "id": "pmVASqHsUEjR"
      },
      "execution_count": 19,
      "outputs": []
    },
    {
      "cell_type": "code",
      "source": [
        "#predict\n",
        "p_test = model.predict(X_test).argmax(axis=1)\n",
        "cm = confusion_matrix(Y_test, p_test)\n",
        "plot_confusion_matrix(cm, list(range(10)))\n"
      ],
      "metadata": {
        "colab": {
          "base_uri": "https://localhost:8080/",
          "height": 714
        },
        "id": "LUHhWJ0FVriL",
        "outputId": "cb267c80-9b5d-4271-f04d-9278ffc2df18"
      },
      "execution_count": 20,
      "outputs": [
        {
          "output_type": "stream",
          "name": "stdout",
          "text": [
            "\u001b[1m313/313\u001b[0m \u001b[32m━━━━━━━━━━━━━━━━━━━━\u001b[0m\u001b[37m\u001b[0m \u001b[1m0s\u001b[0m 1ms/step\n",
            "Confusion matrix, without normalization\n",
            "[[836   1  19  17   3   0 122   0   2   0]\n",
            " [  3 979   0  13   2   0   1   0   2   0]\n",
            " [ 17   0 785  13  90   0  94   0   1   0]\n",
            " [ 17   7  14 910  26   0  25   0   1   0]\n",
            " [  1   3  42  38 827   0  87   0   2   0]\n",
            " [  0   0   0   0   0 963   0  25   0  12]\n",
            " [106   1  61  25  93   0 701   0  13   0]\n",
            " [  0   0   0   0   0  11   0 966   0  23]\n",
            " [  3   1   1   4   3   2   6   4 976   0]\n",
            " [  0   0   0   0   0   4   1  33   0 962]]\n"
          ]
        },
        {
          "output_type": "display_data",
          "data": {
            "text/plain": [
              "<Figure size 640x480 with 2 Axes>"
            ],
            "image/png": "[encoded data removed]"
          },
          "metadata": {}
        }
      ]
    },
    {
      "cell_type": "code",
      "source": [
        "# Label mapping\n",
        "# labels = '''T-shirts/top\n",
        "# Trouser\n",
        "# Pullover\n",
        "# Dress\n",
        "# Coat\n",
        "# Sandal\n",
        "# Boot\n",
        "# Shirt'''.split()\n",
        "\n",
        "# print(labels)\n",
        "\n",
        "import torchvision.datasets as datasets\n",
        "fashion_mnist = datasets.FashionMNIST(root='data', download=True)\n",
        "labels = fashion_mnist.classes\n",
        "\n",
        "print(\"all labels:\", labels)\n",
        "print(len(X_train))\n",
        "\n",
        "import matplotlib.pyplot as plt\n",
        "\n",
        "\n",
        "plt.figure(figsize=(20, 7))\n",
        "\n",
        "row = 1\n",
        "col = 1\n",
        "idx = 1\n",
        "\n",
        "for i in range(24):\n",
        "    plt.subplot(row, 12, idx)\n",
        "\n",
        "    plt.imshow(X_train[i], cmap='gray')\n",
        "    plt.title(labels[Y_train[i]])\n",
        "    plt.axis('off')\n",
        "\n",
        "    # print(row,idx)\n",
        "\n",
        "    if(idx == 12):\n",
        "        row += 1\n",
        "        idx = 1\n",
        "        # print(row, idx)\n",
        "    else:\n",
        "        idx += 1\n",
        "\n",
        "plt.subplots_adjust(hspace=1.0)\n",
        "plt.show()\n",
        "\n"
      ],
      "metadata": {
        "id": "4-KRR4IUaevq",
        "colab": {
          "base_uri": "https://localhost:8080/",
          "height": 647
        },
        "outputId": "cf6e3eac-f76a-4729-8b92-08df82da0448"
      },
      "execution_count": 21,
      "outputs": [
        {
          "output_type": "stream",
          "name": "stdout",
          "text": [
            "Downloading http://fashion-mnist.s3-website.eu-central-1.amazonaws.com/train-images-idx3-ubyte.gz\n",
            "Downloading http://fashion-mnist.s3-website.eu-central-1.amazonaws.com/train-images-idx3-ubyte.gz to data/FashionMNIST/raw/train-images-idx3-ubyte.gz\n"
          ]
        },
        {
          "output_type": "stream",
          "name": "stderr",
          "text": [
            "100%|██████████| 26.4M/26.4M [00:02<00:00, 9.77MB/s]\n"
          ]
        },
        {
          "output_type": "stream",
          "name": "stdout",
          "text": [
            "Extracting data/FashionMNIST/raw/train-images-idx3-ubyte.gz to data/FashionMNIST/raw\n",
            "\n",
            "Downloading http://fashion-mnist.s3-website.eu-central-1.amazonaws.com/train-labels-idx1-ubyte.gz\n",
            "Downloading http://fashion-mnist.s3-website.eu-central-1.amazonaws.com/train-labels-idx1-ubyte.gz to data/FashionMNIST/raw/train-labels-idx1-ubyte.gz\n"
          ]
        },
        {
          "output_type": "stream",
          "name": "stderr",
          "text": [
            "100%|██████████| 29.5k/29.5k [00:00<00:00, 210kB/s]\n"
          ]
        },
        {
          "output_type": "stream",
          "name": "stdout",
          "text": [
            "Extracting data/FashionMNIST/raw/train-labels-idx1-ubyte.gz to data/FashionMNIST/raw\n",
            "\n",
            "Downloading http://fashion-mnist.s3-website.eu-central-1.amazonaws.com/t10k-images-idx3-ubyte.gz\n",
            "Downloading http://fashion-mnist.s3-website.eu-central-1.amazonaws.com/t10k-images-idx3-ubyte.gz to data/FashionMNIST/raw/t10k-images-idx3-ubyte.gz\n"
          ]
        },
        {
          "output_type": "stream",
          "name": "stderr",
          "text": [
            "100%|██████████| 4.42M/4.42M [00:01<00:00, 3.85MB/s]\n"
          ]
        },
        {
          "output_type": "stream",
          "name": "stdout",
          "text": [
            "Extracting data/FashionMNIST/raw/t10k-images-idx3-ubyte.gz to data/FashionMNIST/raw\n",
            "\n",
            "Downloading http://fashion-mnist.s3-website.eu-central-1.amazonaws.com/t10k-labels-idx1-ubyte.gz\n",
            "Downloading http://fashion-mnist.s3-website.eu-central-1.amazonaws.com/t10k-labels-idx1-ubyte.gz to data/FashionMNIST/raw/t10k-labels-idx1-ubyte.gz\n"
          ]
        },
        {
          "output_type": "stream",
          "name": "stderr",
          "text": [
            "100%|██████████| 5.15k/5.15k [00:00<00:00, 9.33MB/s]\n"
          ]
        },
        {
          "output_type": "stream",
          "name": "stdout",
          "text": [
            "Extracting data/FashionMNIST/raw/t10k-labels-idx1-ubyte.gz to data/FashionMNIST/raw\n",
            "\n",
            "all labels: ['T-shirt/top', 'Trouser', 'Pullover', 'Dress', 'Coat', 'Sandal', 'Shirt', 'Sneaker', 'Bag', 'Ankle boot']\n",
            "60000\n"
          ]
        },
        {
          "output_type": "display_data",
          "data": {
            "text/plain": [
              "<Figure size 2000x700 with 24 Axes>"
            ],
            "image/png": "[encoded data removed]"
          },
          "metadata": {}
        }
      ]
    },
    {
      "cell_type": "code",
      "source": [
        "# show some misclassified example\n",
        "misclassified_idx = np.where(p_test != Y_test)[0]\n",
        "print(\"misclassified examples count: \", len(misclassified_idx))\n",
        "i = np.random.choice(misclassified_idx)\n",
        "plt.imshow(X_test[i].reshape(28, 28), cmap='gray')\n",
        "plt.title(\"True label: %s <> Predicted: %s\" % (labels[Y_test[i]], labels[p_test[i]]));\n"
      ],
      "metadata": {
        "colab": {
          "base_uri": "https://localhost:8080/",
          "height": 469
        },
        "id": "G90PY3z6D-Nh",
        "outputId": "c8893ec4-2967-4987-8407-566a55709d62"
      },
      "execution_count": 22,
      "outputs": [
        {
          "output_type": "stream",
          "name": "stdout",
          "text": [
            "misclassified examples count:  1095\n"
          ]
        },
        {
          "output_type": "display_data",
          "data": {
            "text/plain": [
              "<Figure size 640x480 with 1 Axes>"
            ],
            "image/png": "[encoded data removed]"
          },
          "metadata": {}
        }
      ]
    },
    {
      "cell_type": "code",
      "source": [
        "# show some correct classified example\n",
        "ok  = np.where(p_test == Y_test)\n",
        "not_ok  = np.where(p_test != Y_test)\n",
        "\n",
        "corrclassified_idx = np.where(p_test == Y_test)[0]\n",
        "print(\"correct classified examples count: \", len(corrclassified_idx))\n",
        "i = np.random.choice(corrclassified_idx)\n",
        "plt.imshow(X_test[i].reshape(28, 28), cmap='gray')\n",
        "plt.title(\"True label: %s = Predicted: %s\" % (labels[Y_test[i]], labels[p_test[i]]));\n"
      ],
      "metadata": {
        "colab": {
          "base_uri": "https://localhost:8080/",
          "height": 469
        },
        "id": "KXZzCJkgHDxe",
        "outputId": "af8f7e31-1058-488b-aa51-9f8fb56b9f03"
      },
      "execution_count": 23,
      "outputs": [
        {
          "output_type": "stream",
          "name": "stdout",
          "text": [
            "correct classified examples count:  8905\n"
          ]
        },
        {
          "output_type": "display_data",
          "data": {
            "text/plain": [
              "<Figure size 640x480 with 1 Axes>"
            ],
            "image/png": "[encoded data removed]"
          },
          "metadata": {}
        }
      ]
    },
    {
      "cell_type": "code",
      "source": [
        "import os\n",
        "import numpy as np\n",
        "from PIL import Image\n",
        "\n",
        "from google.colab import files\n",
        "uploaded = files.upload()\n"
      ],
      "metadata": {
        "colab": {
          "base_uri": "https://localhost:8080/",
          "height": 72
        },
        "id": "iTtjthllodDK",
        "outputId": "0bc297d1-d459-4aa7-dd1e-9b424604b9ee"
      },
      "execution_count": 99,
      "outputs": [
        {
          "output_type": "display_data",
          "data": {
            "text/plain": [
              "<IPython.core.display.HTML object>"
            ],
            "text/html": [
              "\n",
              "     <input type=\"file\" id=\"files-a30fd7cb-87ad-486d-8a21-95b901501178\" name=\"files[]\" multiple disabled\n",
              "        style=\"border:none\" />\n",
              "     <output id=\"result-a30fd7cb-87ad-486d-8a21-95b901501178\">\n",
              "      Upload widget is only available when the cell has been executed in the\n",
              "      current browser session. Please rerun this cell to enable.\n",
              "      </output>\n",
              "      <script>// Copyright 2017 Google LLC\n",
              "//\n",
              "// Licensed under the Apache License, Version 2.0 (the \"License\");\n",
              "// you may not use this file except in compliance with the License.\n",
              "// You may obtain a copy of the License at\n",
              "//\n",
              "//      http://www.apache.org/licenses/LICENSE-2.0\n",
              "//\n",
              "// Unless required by applicable law or agreed to in writing, software\n",
              "// distributed under the License is distributed on an \"AS IS\" BASIS,\n",
              "// WITHOUT WARRANTIES OR CONDITIONS OF ANY KIND, either express or implied.\n",
              "// See the License for the specific language governing permissions and\n",
              "// limitations under the License.\n",
              "\n",
              "/**\n",
              " * @fileoverview Helpers for google.colab Python module.\n",
              " */\n",
              "(function(scope) {\n",
              "function span(text, styleAttributes = {}) {\n",
              "  const element = document.createElement('span');\n",
              "  element.textContent = text;\n",
              "  for (const key of Object.keys(styleAttributes)) {\n",
              "    element.style[key] = styleAttributes[key];\n",
              "  }\n",
              "  return element;\n",
              "}\n",
              "\n",
              "// Max number of bytes which will be uploaded at a time.\n",
              "const MAX_PAYLOAD_SIZE = 100 * 1024;\n",
              "\n",
              "function _uploadFiles(inputId, outputId) {\n",
              "  const steps = uploadFilesStep(inputId, outputId);\n",
              "  const outputElement = document.getElementById(outputId);\n",
              "  // Cache steps on the outputElement to make it available for the next call\n",
              "  // to uploadFilesContinue from Python.\n",
              "  outputElement.steps = steps;\n",
              "\n",
              "  return _uploadFilesContinue(outputId);\n",
              "}\n",
              "\n",
              "// This is roughly an async generator (not supported in the browser yet),\n",
              "// where there are multiple asynchronous steps and the Python side is going\n",
              "// to poll for completion of each step.\n",
              "// This uses a Promise to block the python side on completion of each step,\n",
              "// then passes the result of the previous step as the input to the next step.\n",
              "function _uploadFilesContinue(outputId) {\n",
              "  const outputElement = document.getElementById(outputId);\n",
              "  const steps = outputElement.steps;\n",
              "\n",
              "  const next = steps.next(outputElement.lastPromiseValue);\n",
              "  return Promise.resolve(next.value.promise).then((value) => {\n",
              "    // Cache the last promise value to make it available to the next\n",
              "    // step of the generator.\n",
              "    outputElement.lastPromiseValue = value;\n",
              "    return next.value.response;\n",
              "  });\n",
              "}\n",
              "\n",
              "/**\n",
              " * Generator function which is called between each async step of the upload\n",
              " * process.\n",
              " * @param {string} inputId Element ID of the input file picker element.\n",
              " * @param {string} outputId Element ID of the output display.\n",
              " * @return {!Iterable<!Object>} Iterable of next steps.\n",
              " */\n",
              "function* uploadFilesStep(inputId, outputId) {\n",
              "  const inputElement = document.getElementById(inputId);\n",
              "  inputElement.disabled = false;\n",
              "\n",
              "  const outputElement = document.getElementById(outputId);\n",
              "  outputElement.innerHTML = '';\n",
              "\n",
              "  const pickedPromise = new Promise((resolve) => {\n",
              "    inputElement.addEventListener('change', (e) => {\n",
              "      resolve(e.target.files);\n",
              "    });\n",
              "  });\n",
              "\n",
              "  const cancel = document.createElement('button');\n",
              "  inputElement.parentElement.appendChild(cancel);\n",
              "  cancel.textContent = 'Cancel upload';\n",
              "  const cancelPromise = new Promise((resolve) => {\n",
              "    cancel.onclick = () => {\n",
              "      resolve(null);\n",
              "    };\n",
              "  });\n",
              "\n",
              "  // Wait for the user to pick the files.\n",
              "  const files = yield {\n",
              "    promise: Promise.race([pickedPromise, cancelPromise]),\n",
              "    response: {\n",
              "      action: 'starting',\n",
              "    }\n",
              "  };\n",
              "\n",
              "  cancel.remove();\n",
              "\n",
              "  // Disable the input element since further picks are not allowed.\n",
              "  inputElement.disabled = true;\n",
              "\n",
              "  if (!files) {\n",
              "    return {\n",
              "      response: {\n",
              "        action: 'complete',\n",
              "      }\n",
              "    };\n",
              "  }\n",
              "\n",
              "  for (const file of files) {\n",
              "    const li = document.createElement('li');\n",
              "    li.append(span(file.name, {fontWeight: 'bold'}));\n",
              "    li.append(span(\n",
              "        `(${file.type || 'n/a'}) - ${file.size} bytes, ` +\n",
              "        `last modified: ${\n",
              "            file.lastModifiedDate ? file.lastModifiedDate.toLocaleDateString() :\n",
              "                                    'n/a'} - `));\n",
              "    const percent = span('0% done');\n",
              "    li.appendChild(percent);\n",
              "\n",
              "    outputElement.appendChild(li);\n",
              "\n",
              "    const fileDataPromise = new Promise((resolve) => {\n",
              "      const reader = new FileReader();\n",
              "      reader.onload = (e) => {\n",
              "        resolve(e.target.result);\n",
              "      };\n",
              "      reader.readAsArrayBuffer(file);\n",
              "    });\n",
              "    // Wait for the data to be ready.\n",
              "    let fileData = yield {\n",
              "      promise: fileDataPromise,\n",
              "      response: {\n",
              "        action: 'continue',\n",
              "      }\n",
              "    };\n",
              "\n",
              "    // Use a chunked sending to avoid message size limits. See b/62115660.\n",
              "    let position = 0;\n",
              "    do {\n",
              "      const length = Math.min(fileData.byteLength - position, MAX_PAYLOAD_SIZE);\n",
              "      const chunk = new Uint8Array(fileData, position, length);\n",
              "      position += length;\n",
              "\n",
              "      const base64 = btoa(String.fromCharCode.apply(null, chunk));\n",
              "      yield {\n",
              "        response: {\n",
              "          action: 'append',\n",
              "          file: file.name,\n",
              "          data: base64,\n",
              "        },\n",
              "      };\n",
              "\n",
              "      let percentDone = fileData.byteLength === 0 ?\n",
              "          100 :\n",
              "          Math.round((position / fileData.byteLength) * 100);\n",
              "      percent.textContent = `${percentDone}% done`;\n",
              "\n",
              "    } while (position < fileData.byteLength);\n",
              "  }\n",
              "\n",
              "  // All done.\n",
              "  yield {\n",
              "    response: {\n",
              "      action: 'complete',\n",
              "    }\n",
              "  };\n",
              "}\n",
              "\n",
              "scope.google = scope.google || {};\n",
              "scope.google.colab = scope.google.colab || {};\n",
              "scope.google.colab._files = {\n",
              "  _uploadFiles,\n",
              "  _uploadFilesContinue,\n",
              "};\n",
              "})(self);\n",
              "</script> "
            ]
          },
          "metadata": {}
        },
        {
          "output_type": "stream",
          "name": "stdout",
          "text": [
            "Saving shoe.jpg to shoe.jpg\n"
          ]
        }
      ]
    },
    {
      "cell_type": "code",
      "source": [
        "\n",
        "from PIL import Image\n",
        "import numpy as np\n",
        "\n",
        "# Load the JPEG image\n",
        "image = Image.open('shoe.jpg')\n",
        "\n",
        "#1\n",
        "image = image.convert('L')  # Convert to grayscale\n",
        "image = image.resize((28, 28)) # Resize the image to 28x28 pixels\n",
        "#end--------\n",
        "\n",
        "image_array = np.array(image) # Convert the image to a numpy array\n",
        "image_array = image_array.reshape(1, 28, 28, 1)\n",
        "\n",
        "# Ensure the array is of type uint8\n",
        "image_array = image_array.astype(np.uint8)\n",
        "\n",
        "image_array # original shape (148, 148, 3)\n",
        "\n",
        "X_train[0].shape, image_array.shape\n",
        "\n",
        "predictions = model.predict(image_array)\n",
        "predicted_class = np.argmax(predictions[0])\n",
        "print(f'Predicted class: {labels[predicted_class]}')\n",
        "\n",
        "plt.imshow(image, cmap='gray')\n",
        "\n"
      ],
      "metadata": {
        "colab": {
          "base_uri": "https://localhost:8080/",
          "height": 482
        },
        "id": "T9pQE_naosDp",
        "outputId": "957096b7-e579-4975-f619-4ceda6bfb20b"
      },
      "execution_count": 103,
      "outputs": [
        {
          "output_type": "stream",
          "name": "stdout",
          "text": [
            "\u001b[1m1/1\u001b[0m \u001b[32m━━━━━━━━━━━━━━━━━━━━\u001b[0m\u001b[37m\u001b[0m \u001b[1m0s\u001b[0m 29ms/step\n",
            "Predicted class: T-shirt/top\n"
          ]
        },
        {
          "output_type": "execute_result",
          "data": {
            "text/plain": [
              "<matplotlib.image.AxesImage at 0x7e11b242ab10>"
            ]
          },
          "metadata": {},
          "execution_count": 103
        },
        {
          "output_type": "display_data",
          "data": {
            "text/plain": [
              "<Figure size 640x480 with 1 Axes>"
            ],
            "image/png": "[encoded data removed]"
          },
          "metadata": {}
        }
      ]
    },
    {
      "cell_type": "code",
      "source": [
        "from PIL import Image\n",
        "import numpy as np\n",
        "\n",
        "image = Image.open('shirt.jpg')\n",
        "image = image.convert('L')  # Convert to grayscale\n",
        "image = image.resize((28, 28)) # Resize the image to 28x28 pixels\n",
        "image_array = np.array(image) # Convert the image to a numpy array\n",
        "image_array = image_array.reshape(1, 28, 28, 1)\n",
        "\n",
        "image_array = image_array.astype(np.float32) / 255.0\n",
        "\n",
        "# Now you can make predictions\n",
        "predictions = model.predict(image_array)\n",
        "predicted_class = np.argmax(predictions[0])\n",
        "print(f'Predicted class: {labels[predicted_class]}')\n",
        "labels\n",
        "# image_array"
      ],
      "metadata": {
        "colab": {
          "base_uri": "https://localhost:8080/"
        },
        "id": "a5VLsTtaothr",
        "outputId": "f5183638-e8a3-4859-9ca5-08cb12b99641"
      },
      "execution_count": 70,
      "outputs": [
        {
          "output_type": "stream",
          "name": "stdout",
          "text": [
            "\u001b[1m1/1\u001b[0m \u001b[32m━━━━━━━━━━━━━━━━━━━━\u001b[0m\u001b[37m\u001b[0m \u001b[1m0s\u001b[0m 43ms/step\n",
            "Predicted class: Sandal\n"
          ]
        },
        {
          "output_type": "execute_result",
          "data": {
            "text/plain": [
              "['T-shirt/top',\n",
              " 'Trouser',\n",
              " 'Pullover',\n",
              " 'Dress',\n",
              " 'Coat',\n",
              " 'Sandal',\n",
              " 'Shirt',\n",
              " 'Sneaker',\n",
              " 'Bag',\n",
              " 'Ankle boot']"
            ]
          },
          "metadata": {},
          "execution_count": 70
        }
      ]
    },
    {
      "cell_type": "code",
      "source": [
        "# .reshape(28, 28), cmap='gray')\n",
        "# image_array = image_array.reshape(28, 28)\n",
        "# predictions = model.predict(image_array)\n",
        "# predicted_class = np.argmax(predictions[0])\n",
        "# print(f'Predicted class: {labels[predicted_class]}')\n",
        "\n",
        "print(\"Training image shape: \", X_train[0].shape)\n",
        "image_array\n",
        "\n"
      ],
      "metadata": {
        "colab": {
          "base_uri": "https://localhost:8080/"
        },
        "id": "szRqZOfqr7ie",
        "outputId": "13ad5157-454d-4a92-87f2-2417a1a326c7"
      },
      "execution_count": 61,
      "outputs": [
        {
          "output_type": "stream",
          "name": "stdout",
          "text": [
            "Training image shape:  (28, 28, 1)\n"
          ]
        },
        {
          "output_type": "execute_result",
          "data": {
            "text/plain": [
              "array([[[[1.        ],\n",
              "         [1.        ],\n",
              "         [1.        ],\n",
              "         [1.        ],\n",
              "         [1.        ],\n",
              "         [1.        ],\n",
              "         [1.        ],\n",
              "         [1.        ],\n",
              "         [1.        ],\n",
              "         [0.99607843],\n",
              "         [1.        ],\n",
              "         [1.        ],\n",
              "         [1.        ],\n",
              "         [0.99607843],\n",
              "         [1.        ],\n",
              "         [0.99607843],\n",
              "         [0.99215686],\n",
              "         [0.99607843],\n",
              "         [1.        ],\n",
              "         [1.        ],\n",
              "         [1.        ],\n",
              "         [1.        ],\n",
              "         [1.        ],\n",
              "         [1.        ],\n",
              "         [1.        ],\n",
              "         [1.        ],\n",
              "         [1.        ],\n",
              "         [1.        ]],\n",
              "\n",
              "        [[1.        ],\n",
              "         [1.        ],\n",
              "         [1.        ],\n",
              "         [1.        ],\n",
              "         [1.        ],\n",
              "         [1.        ],\n",
              "         [1.        ],\n",
              "         [1.        ],\n",
              "         [1.        ],\n",
              "         [1.        ],\n",
              "         [1.        ],\n",
              "         [0.8980392 ],\n",
              "         [0.79607844],\n",
              "         [0.83137256],\n",
              "         [0.8       ],\n",
              "         [0.7176471 ],\n",
              "         [0.92941177],\n",
              "         [1.        ],\n",
              "         [1.        ],\n",
              "         [1.        ],\n",
              "         [1.        ],\n",
              "         [1.        ],\n",
              "         [1.        ],\n",
              "         [1.        ],\n",
              "         [1.        ],\n",
              "         [1.        ],\n",
              "         [1.        ],\n",
              "         [1.        ]],\n",
              "\n",
              "        [[1.        ],\n",
              "         [1.        ],\n",
              "         [1.        ],\n",
              "         [1.        ],\n",
              "         [1.        ],\n",
              "         [1.        ],\n",
              "         [1.        ],\n",
              "         [1.        ],\n",
              "         [1.        ],\n",
              "         [0.9843137 ],\n",
              "         [0.8901961 ],\n",
              "         [0.76862746],\n",
              "         [0.7019608 ],\n",
              "         [0.7137255 ],\n",
              "         [0.65882355],\n",
              "         [0.5921569 ],\n",
              "         [0.89411765],\n",
              "         [0.9529412 ],\n",
              "         [0.9882353 ],\n",
              "         [1.        ],\n",
              "         [1.        ],\n",
              "         [1.        ],\n",
              "         [1.        ],\n",
              "         [1.        ],\n",
              "         [1.        ],\n",
              "         [1.        ],\n",
              "         [1.        ],\n",
              "         [1.        ]],\n",
              "\n",
              "        [[1.        ],\n",
              "         [1.        ],\n",
              "         [1.        ],\n",
              "         [1.        ],\n",
              "         [1.        ],\n",
              "         [1.        ],\n",
              "         [1.        ],\n",
              "         [0.9490196 ],\n",
              "         [0.8901961 ],\n",
              "         [0.83137256],\n",
              "         [0.75686276],\n",
              "         [0.7882353 ],\n",
              "         [0.5176471 ],\n",
              "         [0.2509804 ],\n",
              "         [0.2627451 ],\n",
              "         [0.57254905],\n",
              "         [0.9098039 ],\n",
              "         [0.85490197],\n",
              "         [0.8980392 ],\n",
              "         [0.94509804],\n",
              "         [0.98039216],\n",
              "         [0.99607843],\n",
              "         [1.        ],\n",
              "         [1.        ],\n",
              "         [1.        ],\n",
              "         [1.        ],\n",
              "         [1.        ],\n",
              "         [1.        ]],\n",
              "\n",
              "        [[1.        ],\n",
              "         [1.        ],\n",
              "         [1.        ],\n",
              "         [1.        ],\n",
              "         [1.        ],\n",
              "         [0.9647059 ],\n",
              "         [0.827451  ],\n",
              "         [0.78431374],\n",
              "         [0.7882353 ],\n",
              "         [0.81960785],\n",
              "         [0.79607844],\n",
              "         [0.7764706 ],\n",
              "         [0.72156864],\n",
              "         [0.4       ],\n",
              "         [0.4509804 ],\n",
              "         [0.78039217],\n",
              "         [0.9019608 ],\n",
              "         [0.8509804 ],\n",
              "         [0.8627451 ],\n",
              "         [0.8666667 ],\n",
              "         [0.8980392 ],\n",
              "         [0.92941177],\n",
              "         [0.9843137 ],\n",
              "         [1.        ],\n",
              "         [1.        ],\n",
              "         [1.        ],\n",
              "         [1.        ],\n",
              "         [1.        ]],\n",
              "\n",
              "        [[1.        ],\n",
              "         [1.        ],\n",
              "         [1.        ],\n",
              "         [1.        ],\n",
              "         [1.        ],\n",
              "         [0.8509804 ],\n",
              "         [0.70980394],\n",
              "         [0.7882353 ],\n",
              "         [0.8       ],\n",
              "         [0.8039216 ],\n",
              "         [0.79607844],\n",
              "         [0.7607843 ],\n",
              "         [0.73333335],\n",
              "         [0.62352943],\n",
              "         [0.6       ],\n",
              "         [0.8039216 ],\n",
              "         [0.88235295],\n",
              "         [0.84705883],\n",
              "         [0.85490197],\n",
              "         [0.8392157 ],\n",
              "         [0.7921569 ],\n",
              "         [0.87058824],\n",
              "         [0.9490196 ],\n",
              "         [1.        ],\n",
              "         [1.        ],\n",
              "         [1.        ],\n",
              "         [1.        ],\n",
              "         [1.        ]],\n",
              "\n",
              "        [[1.        ],\n",
              "         [1.        ],\n",
              "         [1.        ],\n",
              "         [1.        ],\n",
              "         [0.98039216],\n",
              "         [0.8       ],\n",
              "         [0.7254902 ],\n",
              "         [0.80784315],\n",
              "         [0.8       ],\n",
              "         [0.7921569 ],\n",
              "         [0.78431374],\n",
              "         [0.7058824 ],\n",
              "         [0.59607846],\n",
              "         [0.6627451 ],\n",
              "         [0.7058824 ],\n",
              "         [0.62352943],\n",
              "         [0.76862746],\n",
              "         [0.8509804 ],\n",
              "         [0.8627451 ],\n",
              "         [0.8117647 ],\n",
              "         [0.7764706 ],\n",
              "         [0.84313726],\n",
              "         [0.9254902 ],\n",
              "         [0.99215686],\n",
              "         [1.        ],\n",
              "         [1.        ],\n",
              "         [1.        ],\n",
              "         [1.        ]],\n",
              "\n",
              "        [[1.        ],\n",
              "         [1.        ],\n",
              "         [1.        ],\n",
              "         [1.        ],\n",
              "         [0.92156863],\n",
              "         [0.7882353 ],\n",
              "         [0.7176471 ],\n",
              "         [0.81960785],\n",
              "         [0.8235294 ],\n",
              "         [0.7882353 ],\n",
              "         [0.79607844],\n",
              "         [0.8117647 ],\n",
              "         [0.7921569 ],\n",
              "         [0.7607843 ],\n",
              "         [0.76862746],\n",
              "         [0.7882353 ],\n",
              "         [0.83137256],\n",
              "         [0.85490197],\n",
              "         [0.8509804 ],\n",
              "         [0.7764706 ],\n",
              "         [0.7882353 ],\n",
              "         [0.8235294 ],\n",
              "         [0.92941177],\n",
              "         [0.96862745],\n",
              "         [1.        ],\n",
              "         [1.        ],\n",
              "         [1.        ],\n",
              "         [1.        ]],\n",
              "\n",
              "        [[1.        ],\n",
              "         [1.        ],\n",
              "         [1.        ],\n",
              "         [0.99215686],\n",
              "         [0.85490197],\n",
              "         [0.79607844],\n",
              "         [0.7176471 ],\n",
              "         [0.79607844],\n",
              "         [0.8352941 ],\n",
              "         [0.7921569 ],\n",
              "         [0.8156863 ],\n",
              "         [0.80784315],\n",
              "         [0.8352941 ],\n",
              "         [0.80784315],\n",
              "         [0.78431374],\n",
              "         [0.8117647 ],\n",
              "         [0.8509804 ],\n",
              "         [0.8627451 ],\n",
              "         [0.84705883],\n",
              "         [0.75686276],\n",
              "         [0.7882353 ],\n",
              "         [0.8235294 ],\n",
              "         [0.8980392 ],\n",
              "         [0.9411765 ],\n",
              "         [0.99215686],\n",
              "         [1.        ],\n",
              "         [1.        ],\n",
              "         [1.        ]],\n",
              "\n",
              "        [[1.        ],\n",
              "         [1.        ],\n",
              "         [1.        ],\n",
              "         [0.95686275],\n",
              "         [0.79607844],\n",
              "         [0.8039216 ],\n",
              "         [0.75686276],\n",
              "         [0.7921569 ],\n",
              "         [0.84313726],\n",
              "         [0.80784315],\n",
              "         [0.8       ],\n",
              "         [0.827451  ],\n",
              "         [0.8235294 ],\n",
              "         [0.7921569 ],\n",
              "         [0.78431374],\n",
              "         [0.8       ],\n",
              "         [0.8352941 ],\n",
              "         [0.85490197],\n",
              "         [0.84313726],\n",
              "         [0.75686276],\n",
              "         [0.75686276],\n",
              "         [0.76862746],\n",
              "         [0.8901961 ],\n",
              "         [0.9098039 ],\n",
              "         [0.9607843 ],\n",
              "         [1.        ],\n",
              "         [1.        ],\n",
              "         [1.        ]],\n",
              "\n",
              "        [[1.        ],\n",
              "         [1.        ],\n",
              "         [1.        ],\n",
              "         [0.9019608 ],\n",
              "         [0.7607843 ],\n",
              "         [0.8039216 ],\n",
              "         [0.75686276],\n",
              "         [0.78039217],\n",
              "         [0.8509804 ],\n",
              "         [0.8235294 ],\n",
              "         [0.8039216 ],\n",
              "         [0.84705883],\n",
              "         [0.827451  ],\n",
              "         [0.78039217],\n",
              "         [0.76862746],\n",
              "         [0.8117647 ],\n",
              "         [0.80784315],\n",
              "         [0.84705883],\n",
              "         [0.827451  ],\n",
              "         [0.77254903],\n",
              "         [0.70980394],\n",
              "         [0.69411767],\n",
              "         [0.9098039 ],\n",
              "         [0.8980392 ],\n",
              "         [0.90588236],\n",
              "         [0.99607843],\n",
              "         [1.        ],\n",
              "         [1.        ]],\n",
              "\n",
              "        [[1.        ],\n",
              "         [1.        ],\n",
              "         [0.99607843],\n",
              "         [0.8392157 ],\n",
              "         [0.74509805],\n",
              "         [0.78431374],\n",
              "         [0.6901961 ],\n",
              "         [0.7490196 ],\n",
              "         [0.85882354],\n",
              "         [0.83137256],\n",
              "         [0.8039216 ],\n",
              "         [0.84705883],\n",
              "         [0.8509804 ],\n",
              "         [0.8       ],\n",
              "         [0.7647059 ],\n",
              "         [0.8235294 ],\n",
              "         [0.8039216 ],\n",
              "         [0.84313726],\n",
              "         [0.827451  ],\n",
              "         [0.7764706 ],\n",
              "         [0.69803923],\n",
              "         [0.7294118 ],\n",
              "         [0.89411765],\n",
              "         [0.91764706],\n",
              "         [0.9098039 ],\n",
              "         [0.98039216],\n",
              "         [1.        ],\n",
              "         [1.        ]],\n",
              "\n",
              "        [[0.99607843],\n",
              "         [1.        ],\n",
              "         [0.9647059 ],\n",
              "         [0.8       ],\n",
              "         [0.78039217],\n",
              "         [0.74509805],\n",
              "         [0.7764706 ],\n",
              "         [0.7647059 ],\n",
              "         [0.84705883],\n",
              "         [0.8352941 ],\n",
              "         [0.8156863 ],\n",
              "         [0.827451  ],\n",
              "         [0.8666667 ],\n",
              "         [0.8156863 ],\n",
              "         [0.78431374],\n",
              "         [0.827451  ],\n",
              "         [0.80784315],\n",
              "         [0.83137256],\n",
              "         [0.8235294 ],\n",
              "         [0.7921569 ],\n",
              "         [0.76862746],\n",
              "         [0.8117647 ],\n",
              "         [0.8352941 ],\n",
              "         [0.8509804 ],\n",
              "         [0.8862745 ],\n",
              "         [0.96862745],\n",
              "         [1.        ],\n",
              "         [1.        ]],\n",
              "\n",
              "        [[1.        ],\n",
              "         [1.        ],\n",
              "         [0.91764706],\n",
              "         [0.8       ],\n",
              "         [0.8039216 ],\n",
              "         [0.7490196 ],\n",
              "         [0.75686276],\n",
              "         [0.76862746],\n",
              "         [0.8156863 ],\n",
              "         [0.8352941 ],\n",
              "         [0.8235294 ],\n",
              "         [0.8235294 ],\n",
              "         [0.8627451 ],\n",
              "         [0.8117647 ],\n",
              "         [0.7764706 ],\n",
              "         [0.83137256],\n",
              "         [0.8117647 ],\n",
              "         [0.8235294 ],\n",
              "         [0.8039216 ],\n",
              "         [0.81960785],\n",
              "         [0.78431374],\n",
              "         [0.8156863 ],\n",
              "         [0.827451  ],\n",
              "         [0.84313726],\n",
              "         [0.84313726],\n",
              "         [0.9529412 ],\n",
              "         [1.        ],\n",
              "         [1.        ]],\n",
              "\n",
              "        [[1.        ],\n",
              "         [1.        ],\n",
              "         [0.8666667 ],\n",
              "         [0.8039216 ],\n",
              "         [0.8235294 ],\n",
              "         [0.76862746],\n",
              "         [0.7490196 ],\n",
              "         [0.8039216 ],\n",
              "         [0.8       ],\n",
              "         [0.83137256],\n",
              "         [0.83137256],\n",
              "         [0.83137256],\n",
              "         [0.8627451 ],\n",
              "         [0.827451  ],\n",
              "         [0.8       ],\n",
              "         [0.8235294 ],\n",
              "         [0.8156863 ],\n",
              "         [0.8156863 ],\n",
              "         [0.78039217],\n",
              "         [0.85490197],\n",
              "         [0.8156863 ],\n",
              "         [0.8156863 ],\n",
              "         [0.87058824],\n",
              "         [0.9019608 ],\n",
              "         [0.8784314 ],\n",
              "         [0.93333334],\n",
              "         [1.        ],\n",
              "         [1.        ]],\n",
              "\n",
              "        [[0.99607843],\n",
              "         [0.9882353 ],\n",
              "         [0.83137256],\n",
              "         [0.80784315],\n",
              "         [0.83137256],\n",
              "         [0.7921569 ],\n",
              "         [0.75686276],\n",
              "         [0.80784315],\n",
              "         [0.7921569 ],\n",
              "         [0.83137256],\n",
              "         [0.827451  ],\n",
              "         [0.83137256],\n",
              "         [0.8666667 ],\n",
              "         [0.827451  ],\n",
              "         [0.79607844],\n",
              "         [0.8235294 ],\n",
              "         [0.827451  ],\n",
              "         [0.8117647 ],\n",
              "         [0.77254903],\n",
              "         [0.8392157 ],\n",
              "         [0.8980392 ],\n",
              "         [0.84705883],\n",
              "         [0.79607844],\n",
              "         [0.84705883],\n",
              "         [0.85882354],\n",
              "         [0.91764706],\n",
              "         [0.99607843],\n",
              "         [1.        ]],\n",
              "\n",
              "        [[1.        ],\n",
              "         [0.9607843 ],\n",
              "         [0.80784315],\n",
              "         [0.8117647 ],\n",
              "         [0.8352941 ],\n",
              "         [0.7921569 ],\n",
              "         [0.81960785],\n",
              "         [0.81960785],\n",
              "         [0.7921569 ],\n",
              "         [0.8156863 ],\n",
              "         [0.827451  ],\n",
              "         [0.8156863 ],\n",
              "         [0.84705883],\n",
              "         [0.83137256],\n",
              "         [0.7921569 ],\n",
              "         [0.83137256],\n",
              "         [0.827451  ],\n",
              "         [0.8       ],\n",
              "         [0.78431374],\n",
              "         [0.83137256],\n",
              "         [0.84313726],\n",
              "         [0.8784314 ],\n",
              "         [0.8       ],\n",
              "         [0.84705883],\n",
              "         [0.84313726],\n",
              "         [0.89411765],\n",
              "         [0.9882353 ],\n",
              "         [1.        ]],\n",
              "\n",
              "        [[1.        ],\n",
              "         [0.9411765 ],\n",
              "         [0.80784315],\n",
              "         [0.8235294 ],\n",
              "         [0.8352941 ],\n",
              "         [0.8039216 ],\n",
              "         [0.89411765],\n",
              "         [0.8627451 ],\n",
              "         [0.8       ],\n",
              "         [0.80784315],\n",
              "         [0.80784315],\n",
              "         [0.80784315],\n",
              "         [0.84313726],\n",
              "         [0.827451  ],\n",
              "         [0.79607844],\n",
              "         [0.84313726],\n",
              "         [0.8235294 ],\n",
              "         [0.7921569 ],\n",
              "         [0.78431374],\n",
              "         [0.85882354],\n",
              "         [0.8980392 ],\n",
              "         [0.9019608 ],\n",
              "         [0.78431374],\n",
              "         [0.8352941 ],\n",
              "         [0.827451  ],\n",
              "         [0.8862745 ],\n",
              "         [0.98039216],\n",
              "         [1.        ]],\n",
              "\n",
              "        [[1.        ],\n",
              "         [0.9137255 ],\n",
              "         [0.8039216 ],\n",
              "         [0.80784315],\n",
              "         [0.83137256],\n",
              "         [0.8235294 ],\n",
              "         [0.9411765 ],\n",
              "         [0.8509804 ],\n",
              "         [0.8039216 ],\n",
              "         [0.80784315],\n",
              "         [0.8039216 ],\n",
              "         [0.8039216 ],\n",
              "         [0.8392157 ],\n",
              "         [0.81960785],\n",
              "         [0.8156863 ],\n",
              "         [0.8392157 ],\n",
              "         [0.81960785],\n",
              "         [0.80784315],\n",
              "         [0.76862746],\n",
              "         [0.7921569 ],\n",
              "         [0.8745098 ],\n",
              "         [0.92941177],\n",
              "         [0.8       ],\n",
              "         [0.83137256],\n",
              "         [0.8392157 ],\n",
              "         [0.8784314 ],\n",
              "         [0.96862745],\n",
              "         [1.        ]],\n",
              "\n",
              "        [[1.        ],\n",
              "         [0.88235295],\n",
              "         [0.8117647 ],\n",
              "         [0.7921569 ],\n",
              "         [0.78039217],\n",
              "         [0.8235294 ],\n",
              "         [0.96862745],\n",
              "         [0.8039216 ],\n",
              "         [0.8       ],\n",
              "         [0.8039216 ],\n",
              "         [0.8156863 ],\n",
              "         [0.80784315],\n",
              "         [0.8392157 ],\n",
              "         [0.8117647 ],\n",
              "         [0.8117647 ],\n",
              "         [0.8117647 ],\n",
              "         [0.8039216 ],\n",
              "         [0.8352941 ],\n",
              "         [0.79607844],\n",
              "         [0.80784315],\n",
              "         [0.8509804 ],\n",
              "         [0.9490196 ],\n",
              "         [0.8156863 ],\n",
              "         [0.84705883],\n",
              "         [0.83137256],\n",
              "         [0.8627451 ],\n",
              "         [0.9490196 ],\n",
              "         [1.        ]],\n",
              "\n",
              "        [[0.99607843],\n",
              "         [0.8666667 ],\n",
              "         [0.8117647 ],\n",
              "         [0.83137256],\n",
              "         [0.78039217],\n",
              "         [0.8156863 ],\n",
              "         [0.9647059 ],\n",
              "         [0.79607844],\n",
              "         [0.7921569 ],\n",
              "         [0.8117647 ],\n",
              "         [0.83137256],\n",
              "         [0.8235294 ],\n",
              "         [0.8352941 ],\n",
              "         [0.8235294 ],\n",
              "         [0.8117647 ],\n",
              "         [0.8156863 ],\n",
              "         [0.79607844],\n",
              "         [0.85490197],\n",
              "         [0.79607844],\n",
              "         [0.8039216 ],\n",
              "         [0.85490197],\n",
              "         [0.972549  ],\n",
              "         [0.78039217],\n",
              "         [0.78039217],\n",
              "         [0.78431374],\n",
              "         [0.84705883],\n",
              "         [0.93333334],\n",
              "         [1.        ]],\n",
              "\n",
              "        [[0.9882353 ],\n",
              "         [0.8509804 ],\n",
              "         [0.8039216 ],\n",
              "         [0.84313726],\n",
              "         [0.79607844],\n",
              "         [0.83137256],\n",
              "         [0.9607843 ],\n",
              "         [0.8       ],\n",
              "         [0.7921569 ],\n",
              "         [0.81960785],\n",
              "         [0.8235294 ],\n",
              "         [0.8156863 ],\n",
              "         [0.8117647 ],\n",
              "         [0.80784315],\n",
              "         [0.80784315],\n",
              "         [0.8156863 ],\n",
              "         [0.7921569 ],\n",
              "         [0.84313726],\n",
              "         [0.84313726],\n",
              "         [0.7921569 ],\n",
              "         [0.80784315],\n",
              "         [0.9647059 ],\n",
              "         [0.8039216 ],\n",
              "         [0.77254903],\n",
              "         [0.7882353 ],\n",
              "         [0.8392157 ],\n",
              "         [0.92156863],\n",
              "         [1.        ]],\n",
              "\n",
              "        [[0.98039216],\n",
              "         [0.8352941 ],\n",
              "         [0.8039216 ],\n",
              "         [0.83137256],\n",
              "         [0.8117647 ],\n",
              "         [0.8627451 ],\n",
              "         [0.9607843 ],\n",
              "         [0.79607844],\n",
              "         [0.8039216 ],\n",
              "         [0.81960785],\n",
              "         [0.8235294 ],\n",
              "         [0.8352941 ],\n",
              "         [0.827451  ],\n",
              "         [0.8039216 ],\n",
              "         [0.8039216 ],\n",
              "         [0.80784315],\n",
              "         [0.8117647 ],\n",
              "         [0.8117647 ],\n",
              "         [0.8509804 ],\n",
              "         [0.85490197],\n",
              "         [0.84313726],\n",
              "         [0.9529412 ],\n",
              "         [0.8392157 ],\n",
              "         [0.76862746],\n",
              "         [0.77254903],\n",
              "         [0.80784315],\n",
              "         [0.8901961 ],\n",
              "         [1.        ]],\n",
              "\n",
              "        [[0.972549  ],\n",
              "         [0.827451  ],\n",
              "         [0.7921569 ],\n",
              "         [0.81960785],\n",
              "         [0.81960785],\n",
              "         [0.9098039 ],\n",
              "         [0.9490196 ],\n",
              "         [0.8       ],\n",
              "         [0.81960785],\n",
              "         [0.81960785],\n",
              "         [0.83137256],\n",
              "         [0.83137256],\n",
              "         [0.827451  ],\n",
              "         [0.8       ],\n",
              "         [0.83137256],\n",
              "         [0.7882353 ],\n",
              "         [0.8       ],\n",
              "         [0.80784315],\n",
              "         [0.8156863 ],\n",
              "         [0.8235294 ],\n",
              "         [0.81960785],\n",
              "         [0.9490196 ],\n",
              "         [0.8745098 ],\n",
              "         [0.7764706 ],\n",
              "         [0.7764706 ],\n",
              "         [0.7921569 ],\n",
              "         [0.88235295],\n",
              "         [1.        ]],\n",
              "\n",
              "        [[0.98039216],\n",
              "         [0.827451  ],\n",
              "         [0.8039216 ],\n",
              "         [0.8156863 ],\n",
              "         [0.81960785],\n",
              "         [0.95686275],\n",
              "         [0.9372549 ],\n",
              "         [0.8039216 ],\n",
              "         [0.8156863 ],\n",
              "         [0.8156863 ],\n",
              "         [0.8352941 ],\n",
              "         [0.8392157 ],\n",
              "         [0.827451  ],\n",
              "         [0.79607844],\n",
              "         [0.8117647 ],\n",
              "         [0.8039216 ],\n",
              "         [0.79607844],\n",
              "         [0.8       ],\n",
              "         [0.8117647 ],\n",
              "         [0.827451  ],\n",
              "         [0.81960785],\n",
              "         [0.9254902 ],\n",
              "         [0.92941177],\n",
              "         [0.7647059 ],\n",
              "         [0.78039217],\n",
              "         [0.76862746],\n",
              "         [0.8745098 ],\n",
              "         [1.        ]],\n",
              "\n",
              "        [[0.9843137 ],\n",
              "         [0.827451  ],\n",
              "         [0.7921569 ],\n",
              "         [0.80784315],\n",
              "         [0.84313726],\n",
              "         [0.9882353 ],\n",
              "         [0.9098039 ],\n",
              "         [0.8       ],\n",
              "         [0.80784315],\n",
              "         [0.80784315],\n",
              "         [0.81960785],\n",
              "         [0.8156863 ],\n",
              "         [0.81960785],\n",
              "         [0.83137256],\n",
              "         [0.8117647 ],\n",
              "         [0.8       ],\n",
              "         [0.8156863 ],\n",
              "         [0.8117647 ],\n",
              "         [0.8117647 ],\n",
              "         [0.8117647 ],\n",
              "         [0.8117647 ],\n",
              "         [0.9137255 ],\n",
              "         [0.9764706 ],\n",
              "         [0.78039217],\n",
              "         [0.7647059 ],\n",
              "         [0.76862746],\n",
              "         [0.87058824],\n",
              "         [1.        ]],\n",
              "\n",
              "        [[0.98039216],\n",
              "         [0.8156863 ],\n",
              "         [0.8       ],\n",
              "         [0.8117647 ],\n",
              "         [0.85490197],\n",
              "         [1.        ],\n",
              "         [0.89411765],\n",
              "         [0.8       ],\n",
              "         [0.80784315],\n",
              "         [0.8156863 ],\n",
              "         [0.8235294 ],\n",
              "         [0.8117647 ],\n",
              "         [0.80784315],\n",
              "         [0.80784315],\n",
              "         [0.827451  ],\n",
              "         [0.8       ],\n",
              "         [0.80784315],\n",
              "         [0.8156863 ],\n",
              "         [0.8156863 ],\n",
              "         [0.8117647 ],\n",
              "         [0.7921569 ],\n",
              "         [0.89411765],\n",
              "         [1.        ],\n",
              "         [0.8156863 ],\n",
              "         [0.7882353 ],\n",
              "         [0.80784315],\n",
              "         [0.8666667 ],\n",
              "         [1.        ]],\n",
              "\n",
              "        [[0.9529412 ],\n",
              "         [0.7921569 ],\n",
              "         [0.8039216 ],\n",
              "         [0.8117647 ],\n",
              "         [0.88235295],\n",
              "         [1.        ],\n",
              "         [0.8784314 ],\n",
              "         [0.8039216 ],\n",
              "         [0.80784315],\n",
              "         [0.81960785],\n",
              "         [0.83137256],\n",
              "         [0.8156863 ],\n",
              "         [0.8039216 ],\n",
              "         [0.78039217],\n",
              "         [0.8156863 ],\n",
              "         [0.8156863 ],\n",
              "         [0.8       ],\n",
              "         [0.81960785],\n",
              "         [0.8117647 ],\n",
              "         [0.8039216 ],\n",
              "         [0.7882353 ],\n",
              "         [0.8745098 ],\n",
              "         [1.        ],\n",
              "         [0.8509804 ],\n",
              "         [0.78039217],\n",
              "         [0.7921569 ],\n",
              "         [0.8352941 ],\n",
              "         [0.9843137 ]]]], dtype=float32)"
            ]
          },
          "metadata": {},
          "execution_count": 61
        }
      ]
    },
    {
      "cell_type": "code",
      "source": [
        "model.save('local_fmnist_model1.h5')"
      ],
      "metadata": {
        "colab": {
          "base_uri": "https://localhost:8080/"
        },
        "id": "icB8rQ9Vymtb",
        "outputId": "751cc87c-5fe4-48c9-a202-21ace28b640e"
      },
      "execution_count": 110,
      "outputs": [
        {
          "output_type": "stream",
          "name": "stderr",
          "text": [
            "WARNING:absl:You are saving your model as an HDF5 file via `model.save()` or `keras.saving.save_model(model)`. This file format is considered legacy. We recommend using instead the native Keras format, e.g. `model.save('my_model.keras')` or `keras.saving.save_model(model, 'my_model.keras')`. \n"
          ]
        }
      ]
    },
    {
      "cell_type": "code",
      "source": [
        "model.save('my_fMnist_model.keras')"
      ],
      "metadata": {
        "id": "SbLD9Qs3yyuR"
      },
      "execution_count": 108,
      "outputs": []
    },
    {
      "cell_type": "code",
      "source": [
        "import tensorflow as tf\n",
        "saved_model = ''\n",
        "saved_model = tf.keras.models.load_model('my_fMnist_model.keras')\n",
        "# saved_model.summary()\n",
        "\n",
        "#----------------------\n",
        "model = ''\n",
        "\n",
        "from PIL import Image\n",
        "import numpy as np\n",
        "\n",
        "# Load the JPEG image\n",
        "image = ''\n",
        "image = Image.open('shoe.jpg')\n",
        "\n",
        "#1\n",
        "image = image.convert('L')  # Convert to grayscale\n",
        "image = image.resize((28, 28)) # Resize the image to 28x28 pixels\n",
        "#end--------\n",
        "\n",
        "image_array = np.array(image) # Convert the image to a numpy array\n",
        "image_array = image_array.reshape(1, 28, 28, 1)\n",
        "image_array = image_array.astype(np.uint8)\n",
        "# image_array # original shape (148, 148, 3)\n",
        "# X_train[0].shape, image_array.shape\n",
        "\n",
        "print(\"\\n\\nDoing prediction :-------------------\\n\")\n",
        "predictions = saved_model.predict(image_array)\n",
        "predicted_class = np.argmax(predictions[0])\n",
        "print(f'Predicted class: {labels[predicted_class]}')\n",
        "\n",
        "plt.imshow(image, cmap='gray')\n",
        "\n",
        "\n"
      ],
      "metadata": {
        "colab": {
          "base_uri": "https://localhost:8080/",
          "height": 551
        },
        "id": "ux8jIPXnzSXS",
        "outputId": "0e5db7c4-326a-4ae4-8655-57f95b717f12"
      },
      "execution_count": 165,
      "outputs": [
        {
          "output_type": "stream",
          "name": "stdout",
          "text": [
            "\n",
            "\n",
            "Doing prediction :-------------------\n",
            "\n",
            "\u001b[1m1/1\u001b[0m \u001b[32m━━━━━━━━━━━━━━━━━━━━\u001b[0m\u001b[37m\u001b[0m \u001b[1m0s\u001b[0m 289ms/step\n",
            "Predicted class: T-shirt/top\n"
          ]
        },
        {
          "output_type": "execute_result",
          "data": {
            "text/plain": [
              "<matplotlib.image.AxesImage at 0x7e11afc44190>"
            ]
          },
          "metadata": {},
          "execution_count": 165
        },
        {
          "output_type": "display_data",
          "data": {
            "text/plain": [
              "<Figure size 640x480 with 1 Axes>"
            ],
            "image/png": "[encoded data removed]"
          },
          "metadata": {}
        }
      ]
    },
    {
      "cell_type": "code",
      "source": [
        "print(predictions)\n",
        "print(predicted_class)\n",
        "print(labels)\n"
      ],
      "metadata": {
        "colab": {
          "base_uri": "https://localhost:8080/"
        },
        "id": "kLbKVije3yz4",
        "outputId": "ae5c6548-a3a8-4c7f-b11c-e306bb1f1349"
      },
      "execution_count": 163,
      "outputs": [
        {
          "output_type": "stream",
          "name": "stdout",
          "text": [
            "[[0.3106638  0.05903216 0.1883423  0.13569562 0.05949351 0.02658483\n",
            "  0.13998061 0.00658167 0.06803085 0.00559473]]\n",
            "0\n",
            "['T-shirt/top', 'Trouser', 'Pullover', 'Dress', 'Coat', 'Sandal', 'Shirt', 'Sneaker', 'Bag', 'Ankle boot']\n"
          ]
        }
      ]
    }
  ]
}