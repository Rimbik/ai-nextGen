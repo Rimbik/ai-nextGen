{
  "nbformat": 4,
  "nbformat_minor": 0,
  "metadata": {
    "colab": {
      "provenance": []
    },
    "kernelspec": {
      "name": "python3",
      "display_name": "Python 3"
    },
    "language_info": {
      "name": "python"
    }
  },
  "cells": [
    {
      "cell_type": "code",
      "execution_count": 28,
      "metadata": {
        "colab": {
          "base_uri": "https://localhost:8080/"
        },
        "id": "p82PAR-civeB",
        "outputId": "fad27f1e-ffac-4f54-ae44-e062b528ae68"
      },
      "outputs": [
        {
          "output_type": "stream",
          "name": "stdout",
          "text": [
            "    Age  PClass  Fare  Survived\n",
            "0  20.0     1.0  50.0       0.0\n",
            "1  25.0     2.0  60.0       1.0\n",
            "2  30.0     1.0  50.0       0.0\n",
            "3  32.0     3.0  40.0       1.0\n"
          ]
        }
      ],
      "source": [
        "from sklearn.impute import KNNImputer\n",
        "from sklearn.impute import SimpleImputer\n",
        "import numpy as np\n",
        "import pandas as pd\n",
        "\n",
        "#sample dataset\n",
        "data = {\n",
        "    'Age'      : [20 ,None,30   ,32],\n",
        "    'PClass'   : [1  ,2   ,1    ,3],\n",
        "    'Fare'     : [50 ,60  ,None ,40],\n",
        "    'Survived' : [0  ,1   ,0    ,1]\n",
        "};\n",
        "\n",
        "df = pd.DataFrame(data);\n",
        "\n",
        "\n",
        "imputer = KNNImputer(n_neighbors=2, weights='uniform');\n",
        "imputed = imputer.fit_transform(df);\n",
        "\n",
        "# print the imputed (filledin Null values)\n",
        "# print(imputed) see the imputed array\n",
        "df = pd.DataFrame(imputed);\n",
        "df.columns = ['Age','PClass','Fare','Survived'];\n",
        "print(df)\n",
        "\n",
        "# ---------------------------------------\n"
      ]
    },
    {
      "cell_type": "code",
      "source": [
        "# https://www.geeksforgeeks.org/ml-handle-missing-data-with-simple-imputer/\n",
        "from sklearn.impute import SimpleImputer\n",
        "import numpy as np\n",
        "import pandas as pd\n",
        "\n",
        "#sample dataset\n",
        "data = {\n",
        "    'Age'      : [20,None,30,32],\n",
        "    'PClass'   : [1,2,1,3],\n",
        "    'Fare'     : [50,60,None,40],\n",
        "    'Survived' : [0,1,0,1]\n",
        "};\n",
        "\n",
        "df = pd.DataFrame(data);\n",
        "data = df.to_numpy()\n",
        "\n",
        "imputer = SimpleImputer(missing_values = np.nan,strategy ='mean')\n",
        "# Fitting the data to the imputer object\n",
        "imputer = imputer.fit(data)\n",
        "imputed = imputer.transform(data)\n",
        "\n",
        "# print(\"Imputed Data : \\n\", imputed)\n",
        "df = pd.DataFrame(imputed);\n",
        "df.columns = ['Age','PClass','Fare','Survived'];\n",
        "print(df)\n",
        "\n",
        "\n"
      ],
      "metadata": {
        "colab": {
          "base_uri": "https://localhost:8080/"
        },
        "id": "B1r8vBhrl_FJ",
        "outputId": "1e9e3ab6-a477-4962-f42a-510178022f0b"
      },
      "execution_count": 27,
      "outputs": [
        {
          "output_type": "stream",
          "name": "stdout",
          "text": [
            "         Age  PClass  Fare  Survived\n",
            "0  20.000000     1.0  50.0       0.0\n",
            "1  27.333333     2.0  60.0       1.0\n",
            "2  30.000000     1.0  50.0       0.0\n",
            "3  32.000000     3.0  40.0       1.0\n"
          ]
        }
      ]
    }
  ]
}