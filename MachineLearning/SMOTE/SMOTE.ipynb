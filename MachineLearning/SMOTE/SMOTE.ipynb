{
  "nbformat": 4,
  "nbformat_minor": 0,
  "metadata": {
    "colab": {
      "provenance": []
    },
    "kernelspec": {
      "name": "python3",
      "display_name": "Python 3"
    },
    "language_info": {
      "name": "python"
    }
  },
  "cells": [
    {
      "cell_type": "code",
      "execution_count": 6,
      "metadata": {
        "id": "9h8t74kzWvHP"
      },
      "outputs": [],
      "source": [
        "import pandas as pd\n",
        "from imblearn.over_sampling import SMOTE\n",
        "from sklearn.model_selection import train_test_split\n",
        "from sklearn.ensemble import RandomForestClassifier\n",
        "from sklearn.metrics import classification_report\n",
        "from collections import Counter"
      ]
    },
    {
      "cell_type": "code",
      "source": [
        "# Example dataset\n",
        "data = {'feature1': [1, 2, 3, 4, 5, 6, 7, 8, 9, 10],\n",
        "        'feature2': [11, 12, 13, 14, 15, 16, 17, 18, 19, 20],\n",
        "        'class': [0, 0, 0, 0, 0, 1, 1, 1, 0, 0]}\n",
        "\n",
        "df = pd.DataFrame(data)\n",
        "X = df[['feature1', 'feature2']]\n",
        "y = df['class']\n",
        "\n",
        "print(f'Original dataset shape: {Counter(y)}')"
      ],
      "metadata": {
        "colab": {
          "base_uri": "https://localhost:8080/"
        },
        "id": "vd8kyH02W1-y",
        "outputId": "6953d523-fa76-4966-b991-dee0cd8c6dec"
      },
      "execution_count": 7,
      "outputs": [
        {
          "output_type": "stream",
          "name": "stdout",
          "text": [
            "Original dataset shape: Counter({0: 7, 1: 3})\n"
          ]
        }
      ]
    },
    {
      "cell_type": "code",
      "source": [
        "# Assuming 'class' is the target variable and the rest are features\n",
        "X = df.drop('class', axis=1)\n",
        "y = df['class']"
      ],
      "metadata": {
        "id": "-UsiClB8W8Jv"
      },
      "execution_count": 10,
      "outputs": []
    },
    {
      "cell_type": "code",
      "source": [
        "X_train, X_test, y_train, y_test = train_test_split(X, y, test_size=0.3, random_state=42)\n",
        "\n",
        "# Set k_neighbors to 1, the minimum possible value\n",
        "smote = SMOTE(random_state=42, k_neighbors=1)\n",
        "X_train_resampled, y_train_resampled = smote.fit_resample(X_train, y_train)\n",
        "\n",
        "print(f'Original dataset shape: {Counter(y)}')\n",
        "print(f'After SMOTE > dataset shape: {Counter(y_train_resampled)}')\n",
        "\n"
      ],
      "metadata": {
        "colab": {
          "base_uri": "https://localhost:8080/"
        },
        "id": "skHrRGpzXTvO",
        "outputId": "7e7c2787-4ab5-4899-dfa9-220e3274aca9"
      },
      "execution_count": 22,
      "outputs": [
        {
          "output_type": "stream",
          "name": "stdout",
          "text": [
            "Original dataset shape: Counter({0: 7, 1: 3})\n",
            "After SMOTE > dataset shape: Counter({0: 5, 1: 5})\n"
          ]
        }
      ]
    }
  ]
}