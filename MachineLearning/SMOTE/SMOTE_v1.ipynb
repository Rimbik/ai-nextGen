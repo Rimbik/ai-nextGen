{
  "nbformat": 4,
  "nbformat_minor": 0,
  "metadata": {
    "colab": {
      "provenance": []
    },
    "kernelspec": {
      "name": "python3",
      "display_name": "Python 3"
    },
    "language_info": {
      "name": "python"
    }
  },
  "cells": [
    {
      "cell_type": "code",
      "execution_count": 27,
      "metadata": {
        "id": "9h8t74kzWvHP"
      },
      "outputs": [],
      "source": [
        "import pandas as pd\n",
        "from imblearn.over_sampling import SMOTE\n",
        "from sklearn.model_selection import train_test_split\n",
        "from sklearn.ensemble import RandomForestClassifier\n",
        "from sklearn.metrics import classification_report\n",
        "from collections import Counter"
      ]
    },
    {
      "cell_type": "code",
      "source": [
        "# Example dataset\n",
        "data = {'feature1': [1, 2, 3, 4, 5, 6, 7, 8, 9, 10],\n",
        "        'feature2': [11, 12, 13, 14, 15, 16, 17, 18, 19, 20],\n",
        "        'class': [0, 0, 0, 0, 0, 1, 1, 1, 0, 0]}\n",
        "\n",
        "df = pd.DataFrame(data)\n",
        "X = df[['feature1', 'feature2']]\n",
        "y = df['class']\n",
        "\n",
        "org_shape = Counter(y)\n",
        "print(f'Original dataset shape: {Counter(y)}')"
      ],
      "metadata": {
        "colab": {
          "base_uri": "https://localhost:8080/"
        },
        "id": "vd8kyH02W1-y",
        "outputId": "63a1777e-3db6-42b8-d685-53013d2550e0"
      },
      "execution_count": 28,
      "outputs": [
        {
          "output_type": "stream",
          "name": "stdout",
          "text": [
            "Original dataset shape: Counter({0: 7, 1: 3})\n"
          ]
        }
      ]
    },
    {
      "cell_type": "code",
      "source": [
        "# Assuming 'class' is the target variable and the rest are features\n",
        "X = df.drop('class', axis=1)\n",
        "y = df['class']"
      ],
      "metadata": {
        "id": "-UsiClB8W8Jv"
      },
      "execution_count": 29,
      "outputs": []
    },
    {
      "cell_type": "code",
      "source": [
        "X_train, X_test, y_train, y_test = train_test_split(X, y, test_size=0.3, random_state=42)\n"
      ],
      "metadata": {
        "id": "skHrRGpzXTvO"
      },
      "execution_count": 35,
      "outputs": []
    },
    {
      "cell_type": "code",
      "source": [
        "# plot balance dataset\n",
        "y_train.value_counts().plot(kind='bar')"
      ],
      "metadata": {
        "colab": {
          "base_uri": "https://localhost:8080/",
          "height": 461
        },
        "id": "R87L5wVEJUU5",
        "outputId": "2bdfd365-e00a-4b2b-b53a-f146d0356a72"
      },
      "execution_count": 42,
      "outputs": [
        {
          "output_type": "execute_result",
          "data": {
            "text/plain": [
              "<Axes: xlabel='class'>"
            ]
          },
          "metadata": {},
          "execution_count": 42
        },
        {
          "output_type": "display_data",
          "data": {
            "text/plain": [
              "<Figure size 640x480 with 1 Axes>"
            ],
            "image/png": "[encoded data removed]"
          },
          "metadata": {}
        }
      ]
    },
    {
      "cell_type": "code",
      "source": [
        "\n",
        "# Set k_neighbors to 1, the minimum possible value\n",
        "smote = SMOTE(random_state=42, k_neighbors=1)\n",
        "# smote = SMOTE(sampling_strategy=0.2, random_state=42)\n",
        "X_train_resampled, y_train_resampled = smote.fit_resample(X_train, y_train)\n",
        "\n",
        "print(f'Original dataset shape: {Counter(y_train)}')\n",
        "print(f'After SMOTE > dataset shape: {Counter(y_train_resampled)}')\n",
        "\n",
        "y = y_train_resampled\n",
        "X = X_train_resampled\n",
        "df['class'] = y\n",
        "after_shape = Counter(y)"
      ],
      "metadata": {
        "colab": {
          "base_uri": "https://localhost:8080/"
        },
        "id": "R1eT4yCRJPhC",
        "outputId": "3e256d95-4cde-4442-883b-cffdf2ac601b"
      },
      "execution_count": 46,
      "outputs": [
        {
          "output_type": "stream",
          "name": "stdout",
          "text": [
            "Original dataset shape: Counter({0: 4, 1: 3})\n",
            "After SMOTE > dataset shape: Counter({0: 4, 1: 4})\n"
          ]
        }
      ]
    },
    {
      "cell_type": "code",
      "source": [
        "# plot balance dataset\n",
        "df['class'].value_counts().plot(kind='bar')\n",
        "print(f'After SMOTE > dataset shape: {Counter(y)}')"
      ],
      "metadata": {
        "colab": {
          "base_uri": "https://localhost:8080/",
          "height": 474
        },
        "id": "Jhm_ZSUs2sWQ",
        "outputId": "f4d2f441-2119-49c6-9e81-fef1eaff52f1"
      },
      "execution_count": 38,
      "outputs": [
        {
          "output_type": "stream",
          "name": "stdout",
          "text": [
            "After SMOTE > dataset shape: Counter({0: 4, 1: 4})\n"
          ]
        },
        {
          "output_type": "display_data",
          "data": {
            "text/plain": [
              "<Figure size 640x480 with 1 Axes>"
            ],
            "image/png": "[encoded data removed]"
          },
          "metadata": {}
        }
      ]
    },
    {
      "cell_type": "code",
      "source": [
        "print(org_shape)\n",
        "print(after_shape)\n"
      ],
      "metadata": {
        "colab": {
          "base_uri": "https://localhost:8080/"
        },
        "id": "3CkLGkp73oqs",
        "outputId": "c2590170-88be-4850-a0df-c1b28349efe3"
      },
      "execution_count": 34,
      "outputs": [
        {
          "output_type": "stream",
          "name": "stdout",
          "text": [
            "Counter({0: 7, 1: 3})\n",
            "Counter({0: 5, 1: 5})\n"
          ]
        }
      ]
    }
  ]
}