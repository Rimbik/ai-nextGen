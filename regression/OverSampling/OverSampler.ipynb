{
  "nbformat": 4,
  "nbformat_minor": 0,
  "metadata": {
    "colab": {
      "provenance": []
    },
    "kernelspec": {
      "name": "python3",
      "display_name": "Python 3"
    },
    "language_info": {
      "name": "python"
    }
  },
  "cells": [
    {
      "cell_type": "code",
      "execution_count": 21,
      "metadata": {
        "id": "rIGKknTsS2Cw"
      },
      "outputs": [],
      "source": [
        "from imblearn.over_sampling import RandomOverSampler\n",
        "from sklearn.datasets import make_classification\n",
        "from collections import Counter\n",
        "import pandas as pd\n"
      ]
    },
    {
      "cell_type": "code",
      "source": [
        "# Example dataset\n",
        "data = {'feature1': [1, 2, 3, 4, 5, 6, 7, 8, 9, 10],\n",
        "        'feature2': [11, 12, 13, 14, 15, 16, 17, 18, 19, 20],\n",
        "        'class': [0, 0, 0, 0, 0, 1, 1, 1, 0, 0]}\n",
        "\n",
        "df = pd.DataFrame(data)\n",
        "X = df[['feature1', 'feature2']]\n",
        "y = df['class']\n",
        "\n",
        "print(f'Original dataset shape: {Counter(y)}')\n"
      ],
      "metadata": {
        "colab": {
          "base_uri": "https://localhost:8080/"
        },
        "id": "YV96rMMvS794",
        "outputId": "68767f44-e911-4812-d78d-f6e4399ca716"
      },
      "execution_count": 22,
      "outputs": [
        {
          "output_type": "stream",
          "name": "stdout",
          "text": [
            "Original dataset shape: Counter({0: 7, 1: 3})\n"
          ]
        }
      ]
    },
    {
      "cell_type": "code",
      "source": [
        "# Create a sample imbalanced dataset:\n",
        "X, y = make_classification(n_classes=2, class_sep=2, weights=[0.1, 0.9],\n",
        "                           n_informative=3, n_redundant=1, flip_y=0,\n",
        "                           n_features=20, n_clusters_per_class=1,\n",
        "                           n_samples=1000, random_state=10)\n",
        "print(f'Original dataset shape: {Counter(y)}')"
      ],
      "metadata": {
        "colab": {
          "base_uri": "https://localhost:8080/"
        },
        "id": "RfOVQtNgTD8o",
        "outputId": "59aef4cf-c72f-4868-ad2e-84fa288084d5"
      },
      "execution_count": 23,
      "outputs": [
        {
          "output_type": "stream",
          "name": "stdout",
          "text": [
            "Original dataset shape: Counter({1: 900, 0: 100})\n"
          ]
        }
      ]
    },
    {
      "cell_type": "code",
      "source": [
        "# Apply RandomOverSampler:\n",
        "ros = RandomOverSampler(random_state=42)\n",
        "X_res, y_res = ros.fit_resample(X, y)\n",
        "print(f'Resampled dataset shape: {Counter(y_res)}')\n"
      ],
      "metadata": {
        "colab": {
          "base_uri": "https://localhost:8080/"
        },
        "id": "MRPF4JdiTX4C",
        "outputId": "f46eb7f0-98a9-485e-b77f-2dc4a3113de8"
      },
      "execution_count": 24,
      "outputs": [
        {
          "output_type": "stream",
          "name": "stdout",
          "text": [
            "Resampled dataset shape: Counter({0: 900, 1: 900})\n"
          ]
        }
      ]
    }
  ]
}