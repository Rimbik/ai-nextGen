{
  "nbformat": 4,
  "nbformat_minor": 0,
  "metadata": {
    "colab": {
      "provenance": []
    },
    "kernelspec": {
      "name": "python3",
      "display_name": "Python 3"
    },
    "language_info": {
      "name": "python"
    }
  },
  "cells": [
    {
      "cell_type": "code",
      "execution_count": 19,
      "metadata": {
        "colab": {
          "base_uri": "https://localhost:8080/"
        },
        "id": "agdNBp3ncsjq",
        "outputId": "822ff749-7941-4e6d-8abf-a13122cd6b5b"
      },
      "outputs": [
        {
          "output_type": "stream",
          "name": "stdout",
          "text": [
            "T-statistic (from scipy): -9.0\n",
            "P-value (from scipy): 8.538051223166285e-06\n",
            "T-statistic (calculated manually): -9.0\n",
            "Decision: Reject the null hypothesis at alpha=0.05.\n",
            "\n",
            "Conclusion: There is statistically significant evidence that the average blood pressure before and after treatment with the new drug is different.\n"
          ]
        }
      ],
      "source": [
        "import numpy as np\n",
        "from scipy import stats\n",
        "\n",
        "# Data\n",
        "before_treatment = np.array([120, 122, 118, 130, 125, 128, 115, 121, 123, 119])\n",
        "after_treatment = np.array([115, 120, 112, 128, 122, 125, 110, 117, 119, 114])\n",
        "\n",
        "# Step 1: Null and Alternate Hypotheses\n",
        "# Null Hypothesis: The new drug has no effect on blood pressure.\n",
        "# Alternate Hypothesis: The new drug has an effect on blood pressure.\n",
        "null_hypothesis = \"The new drug has no effect on blood pressure.\"\n",
        "alternate_hypothesis = \"The new drug has an effect on blood pressure.\"\n",
        "\n",
        "# Step 2: Significance Level\n",
        "alpha = 0.05\n",
        "\n",
        "# Step 3: Paired T-test\n",
        "t_statistic, p_value = stats.ttest_rel(after_treatment, before_treatment)\n",
        "\n",
        "# Step 4: Calculate T-statistic manually\n",
        "m = np.mean(after_treatment - before_treatment)\n",
        "s = np.std(after_treatment - before_treatment, ddof=1)  # using ddof=1 for sample standard deviation\n",
        "n = len(before_treatment)\n",
        "t_statistic_manual = m / (s / np.sqrt(n))\n",
        "\n",
        "# Step 5: Decision\n",
        "if p_value <= alpha:\n",
        "    decision = \"Reject\"\n",
        "else:\n",
        "    decision = \"Fail to reject\"\n",
        "\n",
        "# Conclusion\n",
        "if decision == \"Reject\":\n",
        "    conclusion = \"There is statistically significant evidence that the average blood pressure before and after treatment with the new drug is different.\"\n",
        "else:\n",
        "    conclusion = \"There is insufficient evidence to claim a significant difference in average blood pressure before and after treatment with the new drug.\"\n",
        "\n",
        "# Display results\n",
        "print(\"T-statistic (from scipy):\", t_statistic)\n",
        "print(\"P-value (from scipy):\", p_value)\n",
        "print(\"T-statistic (calculated manually):\", t_statistic_manual)\n",
        "print(f\"Decision: {decision} the null hypothesis at alpha={alpha}.\")\n",
        "print(\"\\nConclusion:\", conclusion)\n"
      ]
    }
  ]
}